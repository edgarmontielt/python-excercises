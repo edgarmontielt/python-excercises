{
 "cells": [
  {
   "cell_type": "code",
   "execution_count": 28,
   "metadata": {},
   "outputs": [
    {
     "name": "stdout",
     "output_type": "stream",
     "text": [
      "Ingresa una Frase: Aquí todos lloran, Aquí todos ríen, Aquí todos charlan, Corren, van y vienen: Y todos adulan.\n",
      "\n",
      "El diccionario es:\n"
     ]
    },
    {
     "data": {
      "text/plain": [
       "{'Aquí': 3,\n",
       " 'todos': 4,\n",
       " 'lloran,': 1,\n",
       " 'ríen,': 1,\n",
       " 'charlan,': 1,\n",
       " 'Corren,': 1,\n",
       " 'van': 1,\n",
       " 'y': 1,\n",
       " 'vienen:': 1,\n",
       " 'Y': 1,\n",
       " 'adulan.': 1}"
      ]
     },
     "execution_count": 28,
     "metadata": {},
     "output_type": "execute_result"
    }
   ],
   "source": [
    "'''Función que devuelve un diccionario con la cantidad de palabras ingresadas dentro de una frase'''\n",
    "def ContadorPalabras(frase):\n",
    "    frecuencia = {}\n",
    "    lista_frase = frase.split() #La función split() convierte una cadena de tecto en una lista. \n",
    "\n",
    "    for i in lista_frase: \n",
    "        if i in frecuencia: #Si el iterador esta en la lista. \n",
    "            frecuencia[i] = frecuencia[i] + 1 # Frecuencia con la clave en i aumenta 1 por cada ciclo\n",
    "        else:  \n",
    "            frecuencia[i] = 1 #De los contrario se mantiene en 1\n",
    "    return frecuencia #Retornamos el diccionario antes creado con los valores dentro\n",
    "\n",
    "cadena = input('Ingresa una Frase: ')\n",
    "print('')\n",
    "print('El diccionario es:')\n",
    "ContadorPalabras(cadena)       \n"
   ]
  },
  {
   "cell_type": "code",
   "execution_count": 27,
   "metadata": {},
   "outputs": [
    {
     "name": "stdout",
     "output_type": "stream",
     "text": [
      "Ingresa una frase:  Aquí todos lloran, Aquí todos ríen, Aquí todos charlan, Corren, van y vienen: Y todos adulan.\n",
      "\n",
      "El diccionario es:\n",
      "{'Aquí': 3, 'todos': 4, 'lloran,': 1, 'ríen,': 1, 'charlan,': 1, 'Corren,': 1, 'van': 1, 'y': 1, 'vienen:': 1, 'Y': 1, 'adulan.': 1}\n"
     ]
    }
   ],
   "source": [
    "frecuencia = {}\n",
    "frase = input('Ingresa una frase: ')\n",
    "lista_frase = frase.split()\n",
    "\n",
    "for i in lista_frase:\n",
    "    if i in frecuencia:\n",
    "        frecuencia[i] +=1\n",
    "    else:\n",
    "        frecuencia[i]=1\n",
    "print('')\n",
    "print('El diccionario es:')\n",
    "print(frecuencia)"
   ]
  },
  {
   "cell_type": "code",
   "execution_count": null,
   "metadata": {},
   "outputs": [],
   "source": []
  }
 ],
 "metadata": {
  "kernelspec": {
   "display_name": "Python 3",
   "language": "python",
   "name": "python3"
  },
  "language_info": {
   "codemirror_mode": {
    "name": "ipython",
    "version": 3
   },
   "file_extension": ".py",
   "mimetype": "text/x-python",
   "name": "python",
   "nbconvert_exporter": "python",
   "pygments_lexer": "ipython3",
   "version": "3.8.5"
  }
 },
 "nbformat": 4,
 "nbformat_minor": 4
}
