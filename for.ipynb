{
 "cells": [
  {
   "cell_type": "code",
   "execution_count": 1,
   "metadata": {},
   "outputs": [
    {
     "name": "stdout",
     "output_type": "stream",
     "text": [
      "Ingresa un número entero positivo: 10\n",
      "\n",
      " 10,\n",
      " 9,\n",
      " 8,\n",
      " 7,\n",
      " 6,\n",
      " 5,\n",
      " 4,\n",
      " 3,\n",
      " 2,\n",
      " 1,"
     ]
    }
   ],
   "source": [
    "n1 = int(input(\"Ingresa un número entero positivo: \"))\n",
    "\n",
    "for i in range(n1, 0, -1):\n",
    "    print('\\n', i,  end=',')"
   ]
  },
  {
   "cell_type": "code",
   "execution_count": null,
   "metadata": {},
   "outputs": [],
   "source": []
  }
 ],
 "metadata": {
  "kernelspec": {
   "display_name": "Python 3",
   "language": "python",
   "name": "python3"
  },
  "language_info": {
   "codemirror_mode": {
    "name": "ipython",
    "version": 3
   },
   "file_extension": ".py",
   "mimetype": "text/x-python",
   "name": "python",
   "nbconvert_exporter": "python",
   "pygments_lexer": "ipython3",
   "version": "3.8.5"
  }
 },
 "nbformat": 4,
 "nbformat_minor": 4
}
