{
 "cells": [
  {
   "cell_type": "code",
   "execution_count": null,
   "metadata": {},
   "outputs": [
    {
     "ename": "",
     "evalue": "",
     "output_type": "error",
     "traceback": [
      "\u001b[1;31mRunning cells with 'Python 3.9.13 64-bit (windows store)' requires ipykernel package.\n",
      "Run the following command to install 'ipykernel' into the Python environment. \n",
      "Command: '\"c:/Users/Edgar Montiel/AppData/Local/Microsoft/WindowsApps/python3.9.exe\" -m pip install ipykernel -U --user --force-reinstall'"
     ]
    }
   ],
   "source": [
    "print('Años Bisiestos')\n",
    "\n",
    "año1 = int(input('Escriba un año: '))\n",
    "año2 = int(input('Escriba un año posterior a ' + str(año1) + ':'))\n",
    "\n",
    "lista = []\n",
    "\n",
    "for i in range(año1, año2+1, 1):\n",
    "    lista += [i]\n",
    "print('Los años del rango son: ' + str(lista))\n",
    "    \n",
    "contador = 0\n",
    "for i in lista: \n",
    "    if((i % 4 == 0 and i %100 != 0) or i % 400 == 0):\n",
    "        contador += 1\n",
    "        \n",
    "print('Del año ' + str(año1) + ' al ' +str(año2) + ' hay: ' + str(año2-año1+1)+ ' años' + ', '+ str(contador) + ' son bisiestos.')"
   ]
  },
  {
   "cell_type": "code",
   "execution_count": null,
   "metadata": {},
   "outputs": [],
   "source": []
  },
  {
   "cell_type": "code",
   "execution_count": null,
   "metadata": {},
   "outputs": [],
   "source": []
  }
 ],
 "metadata": {
  "interpreter": {
   "hash": "a0d00b7da0e7114ba90bcfdb577ba87cf033e030c414412a3b793bdb5c63ed0d"
  },
  "kernelspec": {
   "display_name": "Python 3.9.13 64-bit (windows store)",
   "language": "python",
   "name": "python3"
  },
  "language_info": {
   "codemirror_mode": {
    "name": "ipython",
    "version": 3
   },
   "file_extension": ".py",
   "mimetype": "text/x-python",
   "name": "python",
   "nbconvert_exporter": "python",
   "pygments_lexer": "ipython3",
   "version": "3.9.13"
  }
 },
 "nbformat": 4,
 "nbformat_minor": 4
}
