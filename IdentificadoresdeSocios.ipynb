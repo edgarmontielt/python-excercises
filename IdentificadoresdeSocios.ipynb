{
 "cells": [
  {
   "cell_type": "code",
   "execution_count": 16,
   "metadata": {},
   "outputs": [
    {
     "name": "stdout",
     "output_type": "stream",
     "text": [
      "Ingresa el nombre del socio: Juan\n",
      "Ingresa el segundo nombre del socio:Manuel\n",
      "Ingresa el apellido del socio: Lopez\n",
      "Ingresa el número de INE: 453821\n",
      "Ingresa el número de INE: 45382179\n",
      "\n",
      "Registro exitoso. ¡Bienvenido Juan Lopez!\n",
      "Su identificador es: Juan5453\n"
     ]
    }
   ],
   "source": [
    "nombre1 = input('Ingresa el nombre del socio: ')\n",
    "nombre2 = input('Ingresa el segundo nombre del socio:' )\n",
    "apellido = input('Ingresa el apellido del socio: ')\n",
    "ine = ' '\n",
    "\n",
    "while len(ine) != 8 and len(ine) != 7: \n",
    "    ine = input('Ingresa el número de INE: ') \n",
    "\n",
    "print()\n",
    "print('Registro exitoso. ¡Bienvenido ' + nombre1 + ' ' + apellido + \"!\")\n",
    "print('Su identificador es: ' + nombre1 + str(len(apellido)) +  str(ine[0:3]))"
   ]
  },
  {
   "cell_type": "code",
   "execution_count": null,
   "metadata": {},
   "outputs": [],
   "source": []
  },
  {
   "cell_type": "code",
   "execution_count": null,
   "metadata": {},
   "outputs": [],
   "source": []
  },
  {
   "cell_type": "code",
   "execution_count": null,
   "metadata": {},
   "outputs": [],
   "source": [
    "\n"
   ]
  }
 ],
 "metadata": {
  "kernelspec": {
   "display_name": "Python 3",
   "language": "python",
   "name": "python3"
  },
  "language_info": {
   "codemirror_mode": {
    "name": "ipython",
    "version": 3
   },
   "file_extension": ".py",
   "mimetype": "text/x-python",
   "name": "python",
   "nbconvert_exporter": "python",
   "pygments_lexer": "ipython3",
   "version": "3.8.5"
  }
 },
 "nbformat": 4,
 "nbformat_minor": 4
}
