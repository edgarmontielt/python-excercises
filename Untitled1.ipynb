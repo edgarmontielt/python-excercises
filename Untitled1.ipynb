{
 "cells": [
  {
   "cell_type": "code",
   "execution_count": 31,
   "metadata": {},
   "outputs": [
    {
     "name": "stdout",
     "output_type": "stream",
     "text": [
      "La calificación en la asignatura de: Programacion Orientada a Objetos es: 8\n",
      "La calificación en la asignatura de: Desarrollo de Sistemas es: 7\n",
      "La calificación en la asignatura de: Sistemas de Informacion es: 9\n",
      "La calificación en la asignatura de: Algebra es: 8\n",
      "La calificación en la asignatura de: Fisica es: 7\n",
      "La calificación en la asignatura de: Calculo Integral es: 8\n"
     ]
    }
   ],
   "source": [
    "materias = ['Programacion Orientada a Objetos', 'Desarrollo de Sistemas', 'Sistemas de Informacion', 'Algebra', 'Fisica', 'Calculo Integral']\n",
    "promedio = [8, 7, 9, 8, 7, 8]\n",
    "for i in range(0, len(materias), 1):\n",
    "    print('La calificación en la asignatura de: ' + str(materias[i]) + ' es: ' +str(promedio[i]))"
   ]
  },
  {
   "cell_type": "code",
   "execution_count": 55,
   "metadata": {},
   "outputs": [
    {
     "name": "stdout",
     "output_type": "stream",
     "text": [
      "¿Cual fue la calificación de Programación Orientada a Objetos?: 10\n",
      "¿Cual fue la calificación de Desarrollo de sistemas?: 4\n",
      "¿Cual fue la calificación de Algebra II?: 5\n",
      "¿Cual fue la calificación de Calculo Integral?: 9\n",
      "¿Cual fue la calificación de Sistemas de Información?: 8\n",
      "¿Cual fue la calificación de Fisica General?: 4\n",
      "[10, 4, 5, 9, 8, 4]\n",
      "Debes recursar: Sistemas de Información\n",
      "Debes recursar: Fisica General\n",
      "Debes recursar: Sistemas de Información\n"
     ]
    }
   ],
   "source": [
    "asignaturas = ['Programación Orientada a Objetos', 'Desarrollo de sistemas', 'Algebra II', 'Calculo Integral', 'Sistemas de Información', 'Fisica General']\n",
    "\n",
    "calificaciones = [] #Declaración de una lista vacía, para guardar los elementos.\n",
    "\n",
    "for i in range(0, len(asignaturas), 1): #Inicio del ciclo para obtener los datos de cada asignatura.\n",
    "    \n",
    "    calif = int(input('¿Cual fue la calificación de ' + asignaturas[i] + '?: '))\n",
    "    \n",
    "    calificaciones.append(calif) #Durante cada ciclo, el resultado ingresado se guardará en la lista antes creada.\n",
    "     \n",
    "print(calificaciones)\n",
    "\n",
    "for j in calificaciones:\n",
    "    if j < 6:\n",
    "        print('Debes recursar: ' + asignaturas[j])\n",
    "    \n",
    "\n",
    "       "
   ]
  },
  {
   "cell_type": "code",
   "execution_count": null,
   "metadata": {},
   "outputs": [],
   "source": []
  },
  {
   "cell_type": "code",
   "execution_count": null,
   "metadata": {},
   "outputs": [],
   "source": []
  }
 ],
 "metadata": {
  "kernelspec": {
   "display_name": "Python 3",
   "language": "python",
   "name": "python3"
  },
  "language_info": {
   "codemirror_mode": {
    "name": "ipython",
    "version": 3
   },
   "file_extension": ".py",
   "mimetype": "text/x-python",
   "name": "python",
   "nbconvert_exporter": "python",
   "pygments_lexer": "ipython3",
   "version": "3.8.5"
  }
 },
 "nbformat": 4,
 "nbformat_minor": 4
}
