{
 "cells": [
  {
   "cell_type": "code",
   "execution_count": 19,
   "metadata": {},
   "outputs": [
    {
     "name": "stdout",
     "output_type": "stream",
     "text": [
      "Tamaño de la lista: 6\n",
      "Ingresa un número: 1\n",
      "Ingresa un número: 2\n",
      "Ingresa un número: 3\n",
      "Ingresa un número: 4\n",
      "Ingresa un número: 5\n",
      "Ingresa un número: 6\n",
      "Tu conjunto de números es:  [1, 2, 3, 4, 5, 6]\n",
      "Media:  3.5\n",
      "Varianza: 2.916666666666666\n",
      "Desviación tipica:  1.707825127659933\n"
     ]
    }
   ],
   "source": [
    "import math\n",
    "\n",
    "def generarLista(x):\n",
    "    tamaño = int(input('Tamaño de la lista: '))\n",
    "    for i in range(0, tamaño):\n",
    "        numero = int(input('Ingresa un número: '))\n",
    "        x.append(numero)\n",
    "\n",
    "def media(lista):\n",
    "    total = 0\n",
    "    for i in range(0,len(lista)):\n",
    "        total = total + lista[i]\n",
    "\n",
    "    return total/len(lista)\n",
    "\n",
    "def varianza(lista):\n",
    "    varianz = 0\n",
    "    for i in range(0, len(lista)):\n",
    "        varianz = varianz + pow(lista[i],2)\n",
    "    return varianz / len(lista) - pow(media(lista),2)\n",
    "\n",
    "def desviacionTip(r):\n",
    "    return math.sqrt(varianza(r))\n",
    "\n",
    "a = []\n",
    "generarLista(a)\n",
    "print('Tu conjunto de números es: ', a)\n",
    "print('Media: ' , media(a))\n",
    "print('Varianza:' , varianza(a))\n",
    "print('Desviación tipica: ' , desviacionTip(a))"
   ]
  },
  {
   "cell_type": "code",
   "execution_count": null,
   "metadata": {},
   "outputs": [],
   "source": [
    "\n"
   ]
  }
 ],
 "metadata": {
  "kernelspec": {
   "display_name": "Python 3",
   "language": "python",
   "name": "python3"
  },
  "language_info": {
   "codemirror_mode": {
    "name": "ipython",
    "version": 3
   },
   "file_extension": ".py",
   "mimetype": "text/x-python",
   "name": "python",
   "nbconvert_exporter": "python",
   "pygments_lexer": "ipython3",
   "version": "3.8.5"
  }
 },
 "nbformat": 4,
 "nbformat_minor": 4
}
