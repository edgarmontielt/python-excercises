{
 "cells": [
  {
   "cell_type": "code",
   "execution_count": 17,
   "metadata": {},
   "outputs": [
    {
     "data": {
      "text/plain": [
       "120"
      ]
     },
     "execution_count": 17,
     "metadata": {},
     "output_type": "execute_result"
    }
   ],
   "source": [
    "def factorial(numero):\n",
    "    total = 1\n",
    "    for i in range(1,numero+1):\n",
    "        total = total * i\n",
    "    return total\n",
    "    \n",
    "factorial(5)"
   ]
  },
  {
   "cell_type": "code",
   "execution_count": 141,
   "metadata": {},
   "outputs": [
    {
     "data": {
      "text/plain": [
       "1010"
      ]
     },
     "execution_count": 141,
     "metadata": {},
     "output_type": "execute_result"
    }
   ],
   "source": [
    "num = bin(10)\n",
    "\n",
    "int(bin(10)[2:])\n"
   ]
  },
  {
   "cell_type": "code",
   "execution_count": 155,
   "metadata": {},
   "outputs": [
    {
     "name": "stdout",
     "output_type": "stream",
     "text": [
      "0\n",
      "1\n",
      "0\n",
      "1\n"
     ]
    }
   ],
   "source": [
    "resuduo1 = 10 % 2\n",
    "\n",
    "resuduo = 5 % 2\n",
    "\n",
    "resuduo2 = 2 % 2\n",
    "\n",
    "resuduo3 = 1 % 2\n",
    "\n",
    "print(resuduo1)\n",
    "print(resuduo)\n",
    "print(resuduo2)\n",
    "print(resuduo3)"
   ]
  },
  {
   "cell_type": "code",
   "execution_count": 179,
   "metadata": {},
   "outputs": [
    {
     "name": "stdout",
     "output_type": "stream",
     "text": [
      "Ingresa un número: 10\n",
      "1010\n"
     ]
    }
   ],
   "source": [
    "num = int(input('Ingresa un número: '))\n",
    "binario = ''\n",
    "while num > 0: \n",
    "    residuo = int(num % 2)\n",
    "    num = int(num/2)\n",
    "    binario = str(residuo) + binario\n",
    "\n",
    "print(binario)"
   ]
  },
  {
   "cell_type": "code",
   "execution_count": 184,
   "metadata": {},
   "outputs": [
    {
     "name": "stdout",
     "output_type": "stream",
     "text": [
      "Ingresa un número: 20\n",
      "10100\n"
     ]
    }
   ],
   "source": [
    "def binario(x):\n",
    "    binario = ''\n",
    "    while x > 0: \n",
    "        residuo = int(x % 2)\n",
    "        x = int(x/2)\n",
    "        binario = str(residuo) + binario\n",
    "    return binario\n",
    "\n",
    "num = int(input('Ingresa un número: '))\n",
    "print(binario(num))"
   ]
  },
  {
   "cell_type": "code",
   "execution_count": null,
   "metadata": {},
   "outputs": [],
   "source": []
  }
 ],
 "metadata": {
  "kernelspec": {
   "display_name": "Python 3",
   "language": "python",
   "name": "python3"
  },
  "language_info": {
   "codemirror_mode": {
    "name": "ipython",
    "version": 3
   },
   "file_extension": ".py",
   "mimetype": "text/x-python",
   "name": "python",
   "nbconvert_exporter": "python",
   "pygments_lexer": "ipython3",
   "version": "3.8.5"
  }
 },
 "nbformat": 4,
 "nbformat_minor": 4
}
