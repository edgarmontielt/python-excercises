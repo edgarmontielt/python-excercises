{
 "cells": [
  {
   "cell_type": "code",
   "execution_count": 31,
   "metadata": {},
   "outputs": [
    {
     "name": "stdout",
     "output_type": "stream",
     "text": [
      "La calificación en la asignatura de: Programacion Orientada a Objetos es: 8\n",
      "La calificación en la asignatura de: Desarrollo de Sistemas es: 7\n",
      "La calificación en la asignatura de: Sistemas de Informacion es: 9\n",
      "La calificación en la asignatura de: Algebra es: 8\n",
      "La calificación en la asignatura de: Fisica es: 7\n",
      "La calificación en la asignatura de: Calculo Integral es: 8\n"
     ]
    }
   ],
   "source": [
    "materias = ['Programacion Orientada a Objetos', 'Desarrollo de Sistemas', 'Sistemas de Informacion', 'Algebra', 'Fisica', 'Calculo Integral']\n",
    "promedio = [8, 7, 9, 8, 7, 8]\n",
    "for i in range(0, len(materias), 1):\n",
    "    print('La calificación en la asignatura de: ' + str(materias[i]) + ' es: ' +str(promedio[i]))"
   ]
  },
  {
   "cell_type": "code",
   "execution_count": 84,
   "metadata": {},
   "outputs": [
    {
     "name": "stdout",
     "output_type": "stream",
     "text": [
      "¿Cual fue la calificación de Programación Orientada a Objetos?: 10\n",
      "¿Cual fue la calificación de Desarrollo de sistemas?: 6\n",
      "¿Cual fue la calificación de Algebra II?: 8\n",
      "¿Cual fue la calificación de Calculo Integral?: 9\n",
      "¿Cual fue la calificación de Sistemas de Información?: 4\n",
      "¿Cual fue la calificación de Fisica General?: 5\n",
      "Reprobaste\n",
      "Reprobaste\n"
     ]
    },
    {
     "ename": "IndexError",
     "evalue": "list index out of range",
     "output_type": "error",
     "traceback": [
      "\u001b[1;31m---------------------------------------------------------------------------\u001b[0m",
      "\u001b[1;31mIndexError\u001b[0m                                Traceback (most recent call last)",
      "\u001b[1;32m<ipython-input-84-301e5d2b93c8>\u001b[0m in \u001b[0;36m<module>\u001b[1;34m\u001b[0m\n\u001b[0;32m     10\u001b[0m \u001b[1;32mfor\u001b[0m \u001b[0mj\u001b[0m \u001b[1;32min\u001b[0m \u001b[0mrange\u001b[0m\u001b[1;33m(\u001b[0m\u001b[1;36m0\u001b[0m\u001b[1;33m,\u001b[0m \u001b[1;36m5\u001b[0m\u001b[1;33m,\u001b[0m \u001b[1;36m1\u001b[0m\u001b[1;33m)\u001b[0m\u001b[1;33m:\u001b[0m\u001b[1;33m\u001b[0m\u001b[1;33m\u001b[0m\u001b[0m\n\u001b[0;32m     11\u001b[0m \u001b[1;33m\u001b[0m\u001b[0m\n\u001b[1;32m---> 12\u001b[1;33m         \u001b[1;32mif\u001b[0m \u001b[0mcalificaciones\u001b[0m\u001b[1;33m[\u001b[0m\u001b[0mj\u001b[0m\u001b[1;33m]\u001b[0m \u001b[1;33m<\u001b[0m \u001b[1;36m6\u001b[0m\u001b[1;33m:\u001b[0m\u001b[1;33m\u001b[0m\u001b[1;33m\u001b[0m\u001b[0m\n\u001b[0m\u001b[0;32m     13\u001b[0m             \u001b[0mprint\u001b[0m\u001b[1;33m(\u001b[0m\u001b[1;34m'Reprobaste'\u001b[0m\u001b[1;33m)\u001b[0m\u001b[1;33m\u001b[0m\u001b[1;33m\u001b[0m\u001b[0m\n\u001b[0;32m     14\u001b[0m         \u001b[1;32melse\u001b[0m\u001b[1;33m:\u001b[0m\u001b[1;33m\u001b[0m\u001b[1;33m\u001b[0m\u001b[0m\n",
      "\u001b[1;31mIndexError\u001b[0m: list index out of range"
     ]
    }
   ],
   "source": [
    "asignaturas = ['Programación Orientada a Objetos', 'Desarrollo de sistemas', 'Algebra II', 'Calculo Integral', 'Sistemas de Información', 'Fisica General']\n",
    "\n",
    "calificaciones = [] #Declaración de una lista vacía, para guardar los elementos.\n",
    "\n",
    "for i in range(0, len(asignaturas), 1): #Inicio del ciclo para obtener los datos de cada asignatura.\n",
    "    calif = int(input('¿Cual fue la calificación de ' + asignaturas[i] + '?: ')) \n",
    "    \n",
    "    calificaciones.append(calif) #Durante cada ciclo, el resultado ingresado se guardará en la lista antes creada.\n",
    "    \n",
    "for j in range(0, len(calificaciones), 1):\n",
    "    \n",
    "        if calificaciones[j] < 6:\n",
    "            print('Reprobaste')\n",
    "        else:\n",
    "            del(calificaciones[j])\n",
    "        \n",
    "        \n",
    "print(calificaciones)\n",
    "       "
   ]
  },
  {
   "cell_type": "code",
   "execution_count": null,
   "metadata": {},
   "outputs": [],
   "source": []
  }
 ],
 "metadata": {
  "kernelspec": {
   "display_name": "Python 3",
   "language": "python",
   "name": "python3"
  },
  "language_info": {
   "codemirror_mode": {
    "name": "ipython",
    "version": 3
   },
   "file_extension": ".py",
   "mimetype": "text/x-python",
   "name": "python",
   "nbconvert_exporter": "python",
   "pygments_lexer": "ipython3",
   "version": "3.8.5"
  }
 },
 "nbformat": 4,
 "nbformat_minor": 4
}
