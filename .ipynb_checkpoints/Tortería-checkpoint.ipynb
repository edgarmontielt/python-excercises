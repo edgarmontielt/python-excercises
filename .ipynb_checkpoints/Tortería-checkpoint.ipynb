{
 "cells": [
  {
   "cell_type": "code",
   "execution_count": 23,
   "metadata": {},
   "outputs": [
    {
     "name": "stdout",
     "output_type": "stream",
     "text": [
      "BIENVENIDO AL SISTEMA DE LA TORTERÍA \"LA TEXANA\"\n",
      "\n",
      "Ingrese el nombre del cliente: Edgar\n",
      "Seleccione el tipo de torta de acuerdo al número:\n",
      "1. Torta vegetariana.\n",
      "2. Torta no vegetariana\n",
      "5\n",
      "SOLO PUEDES INGRESAR LOS NUMEROS 1 Y 2, INTENTA DE NUEVO\n"
     ]
    }
   ],
   "source": [
    "print('BIENVENIDO AL SISTEMA DE LA TORTERÍA \"LA TEXANA\"')\n",
    "print()\n",
    "\n",
    "nombre = input('Ingrese el nombre del cliente: ')\n",
    "\n",
    "print('Seleccione el tipo de torta de acuerdo al número:\\n1. Torta vegetariana.\\n2. Torta no vegetariana')\n",
    "tipoTorta = int(input())\n",
    "\n",
    "if tipoTorta == 1 :\n",
    "    print('Escogiste una torta vegetariana, los ingredientes a elegir son: \\n1. Camote \\n2. Jicama \\n3. Zanahoria')\n",
    "    ingrediente = int(input('Para escoger, ingresa el número: '))\n",
    "    \n",
    "    if ingrediente == 1:\n",
    "        print('El cliente'+ nombre +'selecciono eligio una torta vegetariana con los siguientes ingredientes: Quesillo, Aguacate y Camote')\n",
    "    elif ingrediente == 2:\n",
    "        print('El cliente'+ nombre +'selecciono eligio una torta vegetariana con los siguientes ingredientes: Quesillo, Aguacate y Jicama')\n",
    "    elif ingrediente == 3:\n",
    "        print('El cliente'+ nombre +'selecciono eligio una torta vegetariana con los siguientes ingredientes: Quesillo, Aguacate y Zanahoria')\n",
    "    else:\n",
    "        print('Ingresaste un número fuera de los establecidos.')\n",
    "        \n",
    "elif tipoTorta == 2:\n",
    "    print('Escogiste una torta NO vegetariana, los ingredientes a elegir son: \\n1. Milanesa \\n2. Salchicha \\n3. Chorizo')\n",
    "    ingrediente = int(input('Para escoger, ingresa el número: '))   \n",
    "    \n",
    "    if ingrediente == 1:\n",
    "        print('El cliente'+ nombre +'selecciono una torta vegetariana con los siguientes ingredientes: Quesillo, Aguacate y Milanesa')\n",
    "    elif ingrediente == 2:\n",
    "        print('El cliente'+ nombre +'selecciono una torta vegetariana con los siguientes ingredientes: Quesillo, Aguacate y Salchicha')\n",
    "    elif ingrediente == 3:\n",
    "        print('El cliente '+ nombre +' selecciono una torta vegetariana con los siguientes ingredientes: Quesillo, Aguacate y Chorizo')\n",
    "    else:\n",
    "        print('Ingresaste un número fuera de los establecidos.')\n",
    "else: \n",
    "    print('SOLO PUEDES INGRESAR LOS NUMEROS 1 Y 2, INTENTA DE NUEVO')"
   ]
  },
  {
   "cell_type": "code",
   "execution_count": null,
   "metadata": {},
   "outputs": [],
   "source": []
  },
  {
   "cell_type": "code",
   "execution_count": null,
   "metadata": {},
   "outputs": [],
   "source": []
  }
 ],
 "metadata": {
  "kernelspec": {
   "display_name": "Python 3",
   "language": "python",
   "name": "python3"
  },
  "language_info": {
   "codemirror_mode": {
    "name": "ipython",
    "version": 3
   },
   "file_extension": ".py",
   "mimetype": "text/x-python",
   "name": "python",
   "nbconvert_exporter": "python",
   "pygments_lexer": "ipython3",
   "version": "3.8.5"
  }
 },
 "nbformat": 4,
 "nbformat_minor": 4
}
