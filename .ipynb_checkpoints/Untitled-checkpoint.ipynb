{
 "cells": [
  {
   "cell_type": "code",
   "execution_count": 4,
   "metadata": {},
   "outputs": [
    {
     "name": "stdout",
     "output_type": "stream",
     "text": [
      "¿Cuál es tu nombre?Edgar Montiel\n",
      "edgar montiel\n",
      "EDGAR MONTIEL\n",
      "Edgar Montiel\n",
      "Edgar Montiel\n",
      "Edgar Montiel\n"
     ]
    }
   ],
   "source": [
    "nombre = input(\"¿Cuál es tu nombre?\")\n",
    "print(nombre.lower())\n",
    "print(nombre.upper())\n",
    "print(nombre)\n",
    "print(nombre)\n",
    "print(nombre)"
   ]
  },
  {
   "cell_type": "code",
   "execution_count": 8,
   "metadata": {},
   "outputs": [
    {
     "name": "stdout",
     "output_type": "stream",
     "text": [
      "Ingresa una frase:Programación Orientada a Objetos\n",
      "sotejbO a adatneirO nóicamargorP\n"
     ]
    }
   ],
   "source": [
    "frase = input(\"Ingresa una frase:\")\n",
    "print(frase[::-1])"
   ]
  },
  {
   "cell_type": "code",
   "execution_count": 6,
   "metadata": {},
   "outputs": [
    {
     "name": "stdout",
     "output_type": "stream",
     "text": [
      "Ingresa una frase:Programacion\n",
      "Ingresa la vocal a reemplazar:a\n"
     ]
    },
    {
     "data": {
      "text/plain": [
       "'ProgrAmAcion'"
      ]
     },
     "execution_count": 6,
     "metadata": {},
     "output_type": "execute_result"
    }
   ],
   "source": [
    "oracion = input(\"Ingresa una frase:\")\n",
    "n = input(\"Ingresa la vocal a reemplazar:\")\n",
    "nuevaOracion = oracion.replace(n, n.upper())\n",
    "nuevaOracion\n"
   ]
  },
  {
   "cell_type": "code",
   "execution_count": 3,
   "metadata": {},
   "outputs": [
    {
     "name": "stdout",
     "output_type": "stream",
     "text": [
      "Ingresa tu correo electrónico: edgar@gmail.com\n",
      "Tu correo institucional es: \n",
      "edgar@intitutotecnologicodetlaxcala.com\n"
     ]
    }
   ],
   "source": [
    "correo = input(\"Ingresa tu correo electrónico: \")\n",
    "\n",
    "correoAlterado = correo[:correo.find(\"@\")]\n",
    "\n",
    "print(\"Tu correo institucional es: \")\n",
    "\n",
    "print(correoAlterado + \"@intitutotecnologicodetlaxcala.com\") "
   ]
  },
  {
   "cell_type": "code",
   "execution_count": null,
   "metadata": {},
   "outputs": [],
   "source": []
  }
 ],
 "metadata": {
  "kernelspec": {
   "display_name": "Python 3",
   "language": "python",
   "name": "python3"
  },
  "language_info": {
   "codemirror_mode": {
    "name": "ipython",
    "version": 3
   },
   "file_extension": ".py",
   "mimetype": "text/x-python",
   "name": "python",
   "nbconvert_exporter": "python",
   "pygments_lexer": "ipython3",
   "version": "3.8.5"
  }
 },
 "nbformat": 4,
 "nbformat_minor": 4
}
