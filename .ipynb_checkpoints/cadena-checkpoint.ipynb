{
 "cells": [
  {
   "cell_type": "code",
   "execution_count": 22,
   "metadata": {},
   "outputs": [
    {
     "name": "stdout",
     "output_type": "stream",
     "text": [
      "Ingresa una Frase: Hola Mundo Hola Mundo Soy edgar Montiel Un dios maravilloso\n"
     ]
    },
    {
     "data": {
      "text/plain": [
       "{'Hola': 2,\n",
       " 'Mundo': 2,\n",
       " 'Soy': 1,\n",
       " 'edgar': 1,\n",
       " 'Montiel': 1,\n",
       " 'Un': 1,\n",
       " 'dios': 1,\n",
       " 'maravilloso': 1}"
      ]
     },
     "execution_count": 22,
     "metadata": {},
     "output_type": "execute_result"
    }
   ],
   "source": [
    "'''Función que devuelve un diccionario con la cantidad de palabras ingresadas dentro de una frase'''\n",
    "def ContadorPalabras(frase):\n",
    "    frecuencia = {}\n",
    "    lista_frase = frase.split() #La función split() convierte una cadena de tecto en una lista. \n",
    "\n",
    "    for i in lista_frase: \n",
    "        if i in frecuencia: #Si el iterador esta en la lista. \n",
    "            frecuencia[i] = frecuencia[i] + 1 # Frecuencia con la clave en i aumenta 1 por cada ciclo\n",
    "        else:  \n",
    "            frecuencia[i] = 1 #De los contrario se mantiene en 1\n",
    "    return frecuencia #Retornamos el diccionario antes creado con los valores dentro\n",
    "\n",
    "cadena = input('Ingresa una Frase: ')\n",
    "ContadorPalabras(cadena)       \n",
    "\n",
    "        \n",
    "    \n",
    "    "
   ]
  },
  {
   "cell_type": "code",
   "execution_count": 23,
   "metadata": {},
   "outputs": [
    {
     "name": "stdout",
     "output_type": "stream",
     "text": [
      "mete una frase verguera: Como quieres que te quiera si el que quiero que me quiera no me quiere como quiero que me quiera\n",
      "{'Como': 1, 'quieres': 1, 'que': 4, 'te': 1, 'quiera': 3, 'si': 1, 'el': 1, 'quiero': 2, 'me': 3, 'no': 1, 'quiere': 1, 'como': 1}\n"
     ]
    }
   ],
   "source": [
    "frecuencia = {}\n",
    "frase = input('Ingresa una frase: ')\n",
    "lista_frase = frase.split()\n",
    "\n",
    "for i in lista_frase:\n",
    "    if i in frecuencia:\n",
    "        frecuencia[i] +=1\n",
    "    else:\n",
    "        frecuencia[i]=1\n",
    "        \n",
    "print(frecuencia)"
   ]
  },
  {
   "cell_type": "code",
   "execution_count": null,
   "metadata": {},
   "outputs": [],
   "source": []
  }
 ],
 "metadata": {
  "kernelspec": {
   "display_name": "Python 3",
   "language": "python",
   "name": "python3"
  },
  "language_info": {
   "codemirror_mode": {
    "name": "ipython",
    "version": 3
   },
   "file_extension": ".py",
   "mimetype": "text/x-python",
   "name": "python",
   "nbconvert_exporter": "python",
   "pygments_lexer": "ipython3",
   "version": "3.8.5"
  }
 },
 "nbformat": 4,
 "nbformat_minor": 4
}
