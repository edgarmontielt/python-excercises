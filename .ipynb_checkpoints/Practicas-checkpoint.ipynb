{
 "cells": [
  {
   "cell_type": "code",
   "execution_count": 4,
   "metadata": {},
   "outputs": [
    {
     "name": "stdout",
     "output_type": "stream",
     "text": [
      "Ingresa una contraseña: Hola\n",
      "Ingresa nuevamente la contraseña: HOLA\n",
      "!Bienvenido al Sistema¡\n"
     ]
    }
   ],
   "source": [
    "#Ingresar una contraseña y compararla con la ingresada nuevamente. \n",
    "\n",
    "contraseña = input('Ingresa una contraseña: ')\n",
    "\n",
    "contraseña2 = input('Ingresa nuevamente la contraseña: ')\n",
    "\n",
    "if contraseña.upper() == contraseña2.upper():\n",
    "\tprint('!Bienvenido al Sistema¡')\n",
    "\n",
    "else:\n",
    "\tprint('Acceso Denegado')"
   ]
  },
  {
   "cell_type": "code",
   "execution_count": 7,
   "metadata": {},
   "outputs": [
    {
     "name": "stdout",
     "output_type": "stream",
     "text": [
      "División entre dos números.\n",
      "Ingresa el dividendo:\n",
      "\n"
     ]
    },
    {
     "ename": "ValueError",
     "evalue": "invalid literal for int() with base 10: ''",
     "output_type": "error",
     "traceback": [
      "\u001b[1;31m---------------------------------------------------------------------------\u001b[0m",
      "\u001b[1;31mValueError\u001b[0m                                Traceback (most recent call last)",
      "\u001b[1;32m<ipython-input-7-68cef9e4ffa7>\u001b[0m in \u001b[0;36m<module>\u001b[1;34m\u001b[0m\n\u001b[0;32m      3\u001b[0m \u001b[0mprint\u001b[0m\u001b[1;33m(\u001b[0m\u001b[1;34m'División entre dos números.'\u001b[0m\u001b[1;33m)\u001b[0m\u001b[1;33m\u001b[0m\u001b[1;33m\u001b[0m\u001b[0m\n\u001b[0;32m      4\u001b[0m \u001b[0mprint\u001b[0m\u001b[1;33m(\u001b[0m\u001b[1;34m'Ingresa el dividendo:'\u001b[0m\u001b[1;33m)\u001b[0m\u001b[1;33m\u001b[0m\u001b[1;33m\u001b[0m\u001b[0m\n\u001b[1;32m----> 5\u001b[1;33m \u001b[0mn1\u001b[0m \u001b[1;33m=\u001b[0m \u001b[0mint\u001b[0m\u001b[1;33m(\u001b[0m\u001b[0minput\u001b[0m\u001b[1;33m(\u001b[0m\u001b[1;33m)\u001b[0m\u001b[1;33m)\u001b[0m\u001b[1;33m\u001b[0m\u001b[1;33m\u001b[0m\u001b[0m\n\u001b[0m\u001b[0;32m      6\u001b[0m \u001b[0mprint\u001b[0m\u001b[1;33m(\u001b[0m\u001b[1;34m'Ingresa el divisor:'\u001b[0m\u001b[1;33m)\u001b[0m\u001b[1;33m\u001b[0m\u001b[1;33m\u001b[0m\u001b[0m\n\u001b[0;32m      7\u001b[0m \u001b[0mn2\u001b[0m \u001b[1;33m=\u001b[0m \u001b[0mint\u001b[0m\u001b[1;33m(\u001b[0m\u001b[0minput\u001b[0m\u001b[1;33m(\u001b[0m\u001b[1;33m)\u001b[0m\u001b[1;33m)\u001b[0m\u001b[1;33m\u001b[0m\u001b[1;33m\u001b[0m\u001b[0m\n",
      "\u001b[1;31mValueError\u001b[0m: invalid literal for int() with base 10: ''"
     ]
    }
   ],
   "source": [
    "#Divide dos números, si los campos son vacios o el divisor es 0, muestra mensaje de error.\n",
    "\n",
    "print('División entre dos números.')\n",
    "print('Ingresa el dividendo:')\n",
    "n1 = int(input())\n",
    "print('Ingresa el divisor:')\n",
    "n2 = int(input())\n",
    "\n",
    "if len(n1) == 0 and len(n2)==0:\n",
    "    print('No ingresaste valores')\n",
    "    \n",
    "elif  n2 != 0:\n",
    "\tresultado = n1/n2 \n",
    "\tprint('El resultado es:' + str(resultado))\n",
    "    \n",
    "else:\n",
    "    print('El divisor debe ser diferente de 0')"
   ]
  },
  {
   "cell_type": "code",
   "execution_count": 6,
   "metadata": {},
   "outputs": [
    {
     "name": "stdout",
     "output_type": "stream",
     "text": [
      "Ingresa un valor: 10\n",
      "1,3,5,7,9,"
     ]
    }
   ],
   "source": [
    "#Ingresar un número enterp y mostrar los numeros impares hasta ese número. \n",
    "\n",
    "n = int(input(\"Ingresa un valor: \"))\n",
    "\n",
    "for i in range(1,n,2): \n",
    "    \n",
    "    print(i, end=',')"
   ]
  },
  {
   "cell_type": "code",
   "execution_count": 3,
   "metadata": {},
   "outputs": [
    {
     "name": "stdout",
     "output_type": "stream",
     "text": [
      "Introduce una palabra:Programacion\n",
      "n\n",
      "o\n",
      "i\n",
      "c\n",
      "a\n",
      "m\n",
      "a\n",
      "r\n",
      "g\n",
      "o\n",
      "r\n",
      "P\n"
     ]
    }
   ],
   "source": [
    "#Ingresar una palabra y mostrarla alreves caracter por caracter. \n",
    "\n",
    "palabra = input(\"Introduce una palabra:\")\n",
    "\n",
    "for letra in range (len(palabra)-1, -1, -1):\n",
    "\n",
    "    palabraAlreves = palabra[letra]    \n",
    "\n",
    "    print(palabraAlreves)"
   ]
  },
  {
   "cell_type": "code",
   "execution_count": null,
   "metadata": {},
   "outputs": [],
   "source": [
    "#Sistema para evaluar la calidad de los empleados en una empresa. \n",
    "\n",
    "nombre = input('Ingresa el nombre del empleado: ')\n",
    "print('Nota: Solo puedes ingresar los valores siguientes: 0.0, 0.4, 0.6')\n",
    "puntuacion = float(input('¿Cuál es la puntuación del usuario: '))\n",
    "\n",
    "\n",
    "if puntuacion == 0.0:\n",
    "    dineroFinal = puntuacion * 6800 \n",
    "    print('El empleado', str(nombre) , 'tiene un nivel de rendimiento  NO ACEPTABLE. ')\n",
    "    print('La cantidad de dinero a recibir es: ' , dineroFinal)\n",
    "    \n",
    "elif puntuacion == 0.4:\n",
    "    dineroFinal = puntuacion * 6800\n",
    "    print('El empleado', str(nombre) , 'tiene un nivel de rendimiento  ACEPTABLE. ')\n",
    "    print('La cantidad de dinero a recibir es: ' , dineroFinal)\n",
    "    \n",
    "elif puntuacion == 0.6:\n",
    "    dineroFinal = puntuacion * 6800\n",
    "    print('El empleado', str(nombre) , 'tiene un nivel de rendimiento  SATISFACTORIO. ')\n",
    "    print('La cantidad de dinero a recibir es: ' , dineroFinal)\n",
    "    \n",
    "else:\n",
    "    print('Ingresaste un valor incorrecto, pueba de nuevo')     "
   ]
  },
  {
   "cell_type": "code",
   "execution_count": 4,
   "metadata": {},
   "outputs": [
    {
     "name": "stdout",
     "output_type": "stream",
     "text": [
      "m\n",
      "¿Cuál es tu nombre?Jose.\n",
      "Ingresa tu sexo (M si eres hombre o F si eres mujer)M\n",
      "Equipo B\n"
     ]
    }
   ],
   "source": [
    "#Sistema que asigna personas a un equipo de trabajo\n",
    "\n",
    "alfabeto = ['a','b','c','d','e','f','g','h','i','j','k','l','m','n','ñ','o','p','q','r','s','t','u','v','w','x','y','z']\n",
    "\n",
    "nombre = input('¿Cuál es tu nombre? ')\n",
    "\n",
    "sexo = input('Ingresa tu sexo (M si eres hombre o F si eres mujer) ')\n",
    "\n",
    "letra = nombre[0].lower()\n",
    "\n",
    "if (letra >= alfabeto[0] and letra <= alfabeto[12]) and sexo == 'F':\n",
    "    print('Equipo A')\n",
    "    \n",
    "elif (letra >= alfabeto[13] and letra <= alfabeto[26]) and sexo == 'M': \n",
    "    print('Equipo A')\n",
    "    \n",
    "else:\n",
    "    print('Equipo B')"
   ]
  },
  {
   "cell_type": "code",
   "execution_count": null,
   "metadata": {},
   "outputs": [],
   "source": []
  }
 ],
 "metadata": {
  "kernelspec": {
   "display_name": "Python 3",
   "language": "python",
   "name": "python3"
  },
  "language_info": {
   "codemirror_mode": {
    "name": "ipython",
    "version": 3
   },
   "file_extension": ".py",
   "mimetype": "text/x-python",
   "name": "python",
   "nbconvert_exporter": "python",
   "pygments_lexer": "ipython3",
   "version": "3.8.5"
  }
 },
 "nbformat": 4,
 "nbformat_minor": 4
}
