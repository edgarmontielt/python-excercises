{
 "cells": [
  {
   "cell_type": "code",
   "execution_count": 1,
   "metadata": {},
   "outputs": [
    {
     "name": "stdout",
     "output_type": "stream",
     "text": [
      "Ingresa una cadena de texto: Hola Mundo\n"
     ]
    }
   ],
   "source": [
    "cadena = input('Ingresa una cadena de texto: ')\n",
    "frecuencia = {}\n",
    "\n",
    "for i in cadena: \n",
    "    i[0]"
   ]
  },
  {
   "cell_type": "code",
   "execution_count": 2,
   "metadata": {},
   "outputs": [
    {
     "data": {
      "text/plain": [
       "'o'"
      ]
     },
     "execution_count": 2,
     "metadata": {},
     "output_type": "execute_result"
    }
   ],
   "source": [
    "i[0]"
   ]
  },
  {
   "cell_type": "code",
   "execution_count": 20,
   "metadata": {},
   "outputs": [
    {
     "name": "stdout",
     "output_type": "stream",
     "text": [
      "Cantidad a Intertir: $1000\n",
      "Ingrese el interes anual: %10\n",
      "Cuantos años: 5\n",
      "Capital tras 1 año(s): $1100.0\n",
      "Capital tras 2 año(s): $1210.0\n",
      "Capital tras 3 año(s): $1331.0\n",
      "Capital tras 4 año(s): $1464.1\n",
      "Capital tras 5 año(s): $1610.51\n"
     ]
    }
   ],
   "source": [
    "inversion = float(input('Cantidad a Intertir: $'))\n",
    "interes = float(input('Ingrese el interes anual: ' + '%'))\n",
    "años = int(input('Cuantos años: '))\n",
    "\n",
    "for i in range(años):\n",
    "    inversion += (inversion*interes/100)\n",
    "    print('Capital tras ' + str(i+1) + ' año(s): ' + '$'+ str(inversion))"
   ]
  },
  {
   "cell_type": "code",
   "execution_count": null,
   "metadata": {},
   "outputs": [],
   "source": []
  },
  {
   "cell_type": "code",
   "execution_count": null,
   "metadata": {},
   "outputs": [],
   "source": []
  }
 ],
 "metadata": {
  "kernelspec": {
   "display_name": "Python 3",
   "language": "python",
   "name": "python3"
  },
  "language_info": {
   "codemirror_mode": {
    "name": "ipython",
    "version": 3
   },
   "file_extension": ".py",
   "mimetype": "text/x-python",
   "name": "python",
   "nbconvert_exporter": "python",
   "pygments_lexer": "ipython3",
   "version": "3.8.5"
  }
 },
 "nbformat": 4,
 "nbformat_minor": 4
}
