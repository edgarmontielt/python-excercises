{
 "cells": [
  {
   "cell_type": "code",
   "execution_count": 2,
   "metadata": {},
   "outputs": [
    {
     "name": "stdout",
     "output_type": "stream",
     "text": [
      "¿Cual es tu nombre? Edgar\n",
      "Ingresa tu edad: 19\n",
      "Ingresa tu dirección: Venustiano Carranza 204\n",
      "Ingresa tu numero de telefono: 2221706429\n",
      "\n",
      "Edgar tiene 19 años, vive en Venustiano Carranza 204 y su numero de telefono es 2221706429\n"
     ]
    }
   ],
   "source": [
    "#Creamos un diccionario vacío\n",
    "datos = {}\n",
    "\n",
    "#Solicitamos datos al usuario\n",
    "name = input('¿Cual es tu nombre? ')\n",
    "edad = int(input('Ingresa tu edad: '))\n",
    "direccion = input('Ingresa tu dirección: ')\n",
    "telefono = input('Ingresa tu numero de telefono: ')\n",
    "\n",
    "#Estas lineas ingresan los datos en el diccionario declarado\n",
    "datos['nombre'] = name\n",
    "datos['edad'] = edad\n",
    "datos['direccion'] = direccion\n",
    "datos['telefono'] = telefono\n",
    "\n",
    "#Imprimimos el enunciado con datos del diccionario\n",
    "print()\n",
    "print(datos['nombre'] + ' tiene ' + str(datos['edad']) + ' años, vive en ' + datos['direccion'] + ' y su numero de telefono es '+ datos['telefono'] )"
   ]
  },
  {
   "cell_type": "code",
   "execution_count": 3,
   "metadata": {},
   "outputs": [
    {
     "data": {
      "text/plain": [
       "{'nombre': 'Edgar',\n",
       " 'edad': 19,\n",
       " 'direccion': 'Venustiano Carranza 204',\n",
       " 'telefono': '2221706429'}"
      ]
     },
     "execution_count": 3,
     "metadata": {},
     "output_type": "execute_result"
    }
   ],
   "source": [
    "datos"
   ]
  },
  {
   "cell_type": "code",
   "execution_count": 4,
   "metadata": {},
   "outputs": [],
   "source": [
    "datos['Hola'] = 'Mundo'"
   ]
  },
  {
   "cell_type": "code",
   "execution_count": 5,
   "metadata": {},
   "outputs": [
    {
     "data": {
      "text/plain": [
       "{'nombre': 'Edgar',\n",
       " 'edad': 19,\n",
       " 'direccion': 'Venustiano Carranza 204',\n",
       " 'telefono': '2221706429',\n",
       " 'Hola': 'Mundo'}"
      ]
     },
     "execution_count": 5,
     "metadata": {},
     "output_type": "execute_result"
    }
   ],
   "source": [
    "datos"
   ]
  },
  {
   "cell_type": "code",
   "execution_count": null,
   "metadata": {},
   "outputs": [],
   "source": []
  }
 ],
 "metadata": {
  "kernelspec": {
   "display_name": "Python 3",
   "language": "python",
   "name": "python3"
  },
  "language_info": {
   "codemirror_mode": {
    "name": "ipython",
    "version": 3
   },
   "file_extension": ".py",
   "mimetype": "text/x-python",
   "name": "python",
   "nbconvert_exporter": "python",
   "pygments_lexer": "ipython3",
   "version": "3.8.5"
  }
 },
 "nbformat": 4,
 "nbformat_minor": 4
}
