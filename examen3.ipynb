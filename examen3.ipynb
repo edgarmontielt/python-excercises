{
 "cells": [
  {
   "cell_type": "code",
   "execution_count": 10,
   "metadata": {},
   "outputs": [
    {
     "name": "stdout",
     "output_type": "stream",
     "text": [
      "Ingrese la cantidad de días: 360\n",
      "Hay\n",
      "Hay\n"
     ]
    }
   ],
   "source": [
    "dias = int(input('Ingrese la cantidad de días: '))\n",
    "\n",
    "dicc = {'kin': 1, 'unial': 20, 'tun': 360, 'katun': 7200, 'baktun': 14400}\n",
    "\n",
    "contador = 0\n",
    "for i in dicc:\n",
    "    if dias % dicc[i] != 0:  \n",
    "        print('Hay')"
   ]
  },
  {
   "cell_type": "code",
   "execution_count": null,
   "metadata": {},
   "outputs": [],
   "source": []
  },
  {
   "cell_type": "code",
   "execution_count": null,
   "metadata": {},
   "outputs": [],
   "source": []
  }
 ],
 "metadata": {
  "kernelspec": {
   "display_name": "Python 3",
   "language": "python",
   "name": "python3"
  },
  "language_info": {
   "codemirror_mode": {
    "name": "ipython",
    "version": 3
   },
   "file_extension": ".py",
   "mimetype": "text/x-python",
   "name": "python",
   "nbconvert_exporter": "python",
   "pygments_lexer": "ipython3",
   "version": "3.8.5"
  }
 },
 "nbformat": 4,
 "nbformat_minor": 4
}
