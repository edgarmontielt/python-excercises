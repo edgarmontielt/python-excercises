{
 "cells": [
  {
   "cell_type": "code",
   "execution_count": null,
   "metadata": {},
   "outputs": [
    {
     "name": "stdout",
     "output_type": "stream",
     "text": [
      "Seleccione la opción a escoger (Ingrese el número): \n",
      "1. Cafes: \n",
      "2. Cuernitos \n",
      "3. Postres: \n",
      "Ingresa el número: 1\n",
      "Los cafés disponibles son: \n",
      "1. Caliente: $25  \n",
      "2. Frío: $25 \n",
      "3. Frappe: $30\n",
      "¿Desea algo más? 1\n",
      "Los cafés disponibles son: \n",
      "1. Caliente: $25  \n",
      "2. Frío: $25 \n",
      "3. Frappe: $30\n",
      "¿Desea algo más? 1\n",
      "Los cafés disponibles son: \n",
      "1. Caliente: $25  \n",
      "2. Frío: $25 \n",
      "3. Frappe: $30\n"
     ]
    }
   ],
   "source": [
    "class Menu():\n",
    "    total = 0\n",
    "    \n",
    "    def Cafes(self):\n",
    "        print('Los cafés disponibles son: \\n1. Caliente: $25  \\n2. Frío: $25 \\n3. Frappe: $30')\n",
    "        \n",
    "    def Cuernitos(self):\n",
    "        print('Los cuernitos disponibles son: \\n1. Atún: $25  \\n2. Jamón y queso: $25 \\n3. Carne y queso: $30')\n",
    "        \n",
    "    def Postres(self):\n",
    "        print('Los postres disponibles son: \\n1. Pastel de Chocolate: $25  \\n2. Pastel de elote: $25 \\n3. Pay de queso: $30')\n",
    "        \n",
    "def mostrar_Menu():\n",
    "    print('Seleccione la opción a escoger (Ingrese el número): \\n1. Cafes: \\n2. Cuernitos \\n3. Postres: ')\n",
    "    \n",
    "menu = Menu()\n",
    "mostrar_Menu()\n",
    "opc = int(input('Ingresa el número: '))\n",
    "desicion = 1\n",
    "\n",
    "while desicion == 1: \n",
    "    \n",
    "     if opc == 1:\n",
    "        menu.Cafes()\n",
    "        desicion = int(input(\"¿Desea algo más? \"))\n",
    "        \n",
    "        "
   ]
  },
  {
   "cell_type": "code",
   "execution_count": null,
   "metadata": {},
   "outputs": [],
   "source": []
  }
 ],
 "metadata": {
  "kernelspec": {
   "display_name": "Python 3",
   "language": "python",
   "name": "python3"
  },
  "language_info": {
   "codemirror_mode": {
    "name": "ipython",
    "version": 3
   },
   "file_extension": ".py",
   "mimetype": "text/x-python",
   "name": "python",
   "nbconvert_exporter": "python",
   "pygments_lexer": "ipython3",
   "version": "3.8.5"
  }
 },
 "nbformat": 4,
 "nbformat_minor": 4
}
