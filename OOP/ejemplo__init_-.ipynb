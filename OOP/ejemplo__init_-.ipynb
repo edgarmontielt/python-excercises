{
 "cells": [
  {
   "cell_type": "code",
   "execution_count": 17,
   "metadata": {},
   "outputs": [
    {
     "name": "stdout",
     "output_type": "stream",
     "text": [
      "Pedro ha sido contratado como Ing. en Sistemas\n",
      "Hola soy Pedro, mi edad es 31 y mi ocupacion es Ing. en Sistemas\n"
     ]
    }
   ],
   "source": [
    "class Humano():\n",
    "    def __init__(self, edad, nombre, ocupacion):\n",
    "        self.edad = edad\n",
    "        self.nombre = nombre\n",
    "        self.ocupacion = ocupacion\n",
    "        \n",
    "    #Nueva función para imprimir   \n",
    "    def print_informacion(self):\n",
    "        presentacion = ('Hola soy {}, mi edad es {} y mi ocupacion es {}')\n",
    "        print(presentacion.format(self.nombre, self.edad, self.ocupacion)) #Ocupamos format\n",
    "        \n",
    "    #Nuevo método para contratar. \n",
    "    def contratar(self, puesto): #Nuevo parametro al método\n",
    "        self.puesto = puesto\n",
    "        print('{} ha sido contratado como {}'.format(self.nombre, self.puesto))\n",
    "        self.ocupacion = puesto #Cambio de atributo por ocupacion. \n",
    "        \n",
    "Persona1 = Humano(31, 'Pedro', 'Programador') #Instanciamos nuevo obj\n",
    "Persona1.contratar('Ing. en Sistemas')\n",
    "Persona1.print_informacion() #Llamamos al método"
   ]
  },
  {
   "cell_type": "code",
   "execution_count": 9,
   "metadata": {},
   "outputs": [
    {
     "name": "stdout",
     "output_type": "stream",
     "text": [
      "31\n"
     ]
    }
   ],
   "source": []
  },
  {
   "cell_type": "code",
   "execution_count": null,
   "metadata": {},
   "outputs": [],
   "source": []
  }
 ],
 "metadata": {
  "kernelspec": {
   "display_name": "Python 3",
   "language": "python",
   "name": "python3"
  },
  "language_info": {
   "codemirror_mode": {
    "name": "ipython",
    "version": 3
   },
   "file_extension": ".py",
   "mimetype": "text/x-python",
   "name": "python",
   "nbconvert_exporter": "python",
   "pygments_lexer": "ipython3",
   "version": "3.8.5"
  }
 },
 "nbformat": 4,
 "nbformat_minor": 4
}
