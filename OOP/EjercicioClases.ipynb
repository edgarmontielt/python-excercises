{
 "cells": [
  {
   "cell_type": "code",
   "execution_count": 16,
   "metadata": {
    "slideshow": {
     "slide_type": "slide"
    }
   },
   "outputs": [
    {
     "name": "stdout",
     "output_type": "stream",
     "text": [
      "Jorge\n",
      "Universidad\n"
     ]
    }
   ],
   "source": [
    "\"\"\"class Person:\n",
    "    name = ' '\n",
    "    school = ' '\n",
    "    \n",
    "    def print_name(self):\n",
    "        print(self.name)\n",
    "    \n",
    "    def print_school(self):\n",
    "        print(self.school)\n",
    "        \n",
    "jorge = Person()\n",
    "jorge.name = 'Jorge'\n",
    "jorge.school = 'Universidad'\n",
    "jorge.print_name()\n",
    "jorge.print_school()\"\"\"pwnci"
   ]
  },
  {
   "cell_type": "code",
   "execution_count": 17,
   "metadata": {},
   "outputs": [
    {
     "name": "stdout",
     "output_type": "stream",
     "text": [
      "Jorge\n",
      "Universidad\n"
     ]
    }
   ],
   "source": [
    "\"\"\"class Person:\n",
    "    name = ' '\n",
    "    school = ' '\n",
    "    \n",
    "    def print_information(self, name, school):\n",
    "        print(self.name)\n",
    "        print(self.school)\n",
    "        \n",
    "jorge = Person()\n",
    "jorge.name = 'Jorge'\n",
    "jorge.school = 'Universidad'\n",
    "jorge.print_information(jorge.name, jorge.school)\"\"\"\n"
   ]
  },
  {
   "cell_type": "code",
   "execution_count": 23,
   "metadata": {},
   "outputs": [
    {
     "name": "stdout",
     "output_type": "stream",
     "text": [
      "Jorge\n",
      "Universidad\n"
     ]
    }
   ],
   "source": [
    "class Person:\n",
    "    def __init__(self,n,s):\n",
    "        self.name = n\n",
    "        self.school = s\n",
    "    \n",
    "    def print_name(self):\n",
    "        print(self.name)\n",
    "    \n",
    "    def print_school(self):\n",
    "        print(self.school)\n",
    "            \n",
    "jorge = Person('Jorge', 'Universidad')\n",
    "\n",
    "jorge.print_name()\n",
    "jorge.print_school() "
   ]
  }
 ],
 "metadata": {
  "kernelspec": {
   "display_name": "Python 3",
   "language": "python",
   "name": "python3"
  },
  "language_info": {
   "codemirror_mode": {
    "name": "ipython",
    "version": 3
   },
   "file_extension": ".py",
   "mimetype": "text/x-python",
   "name": "python",
   "nbconvert_exporter": "python",
   "pygments_lexer": "ipython3",
   "version": "3.8.5"
  }
 },
 "nbformat": 4,
 "nbformat_minor": 4
}
