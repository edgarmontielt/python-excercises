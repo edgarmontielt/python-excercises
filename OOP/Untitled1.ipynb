{
 "cells": [
  {
   "cell_type": "code",
   "execution_count": 2,
   "metadata": {},
   "outputs": [
    {
     "name": "stdout",
     "output_type": "stream",
     "text": [
      "De que tamanio es la lista: 20\n",
      "Elapsed time: 0.0\n",
      "[0, 13, 17, 30, 31, 36, 38, 43, 46, 51, 55, 55, 63, 70, 75, 82, 83, 92, 95, 99]\n"
     ]
    }
   ],
   "source": [
    "import random\n",
    "from time import time\n",
    "import os\n",
    "os.environ[\"CUDA_VISIBLE_DEVICES\"] = \"0\"\n",
    "\n",
    "def count_elapsed_time(original_function):\n",
    "    \"\"\"\n",
    "    Decorator.\n",
    "    Execute the function and calculate the elapsed time.\n",
    "    Print the result to the standard output.\n",
    "    \"\"\"\n",
    "    def wrapper(args):\n",
    "        # Start counting.\n",
    "        start_time = time()\n",
    "        # Take the original function's return value.\n",
    "        ret = original_function(args)\n",
    "        # Calculate the elapsed time.\n",
    "        elapsed_time = time() - start_time\n",
    "       # print(\"Elapsed time: %0.10f seconds.\" % elapsed_time)\n",
    "        print(f'Elapsed time: {elapsed_time}')\n",
    "        return ret\n",
    "    return wrapper\n",
    "\n",
    "@count_elapsed_time\n",
    "def bubblesort(lista):\n",
    "    n = len(lista)\n",
    "\n",
    "    for i in range(n):\n",
    "        for j in range(0,n - i -1):\n",
    "            if lista[j] > lista[j+1]:\n",
    "                lista[j], lista[j+1] =  lista[j+1],lista[j]\n",
    "    return lista\n",
    "\n",
    "\n",
    "if __name__ == '__main__':\n",
    "    # validar tama;o de lista\n",
    "      tamanio_de_la_lista= int(input('De que tamanio es la lista: '))\n",
    "      lista=[random.randint(0,100) for i in range (tamanio_de_la_lista)]\n",
    "      print(bubblesort(lista))\n",
    "  #helloworld()"
   ]
  },
  {
   "cell_type": "code",
   "execution_count": 4,
   "metadata": {},
   "outputs": [
    {
     "name": "stdout",
     "output_type": "stream",
     "text": [
      "Hola soy una función\n"
     ]
    }
   ],
   "source": [
    "def saludar(): \n",
    "    print('Hola soy una función') \n",
    "\n",
    "def super_funcion(funcion): \n",
    "    funcion() \n",
    "\n",
    "funcion = saludar  # Asignamos la función a una variable!\n",
    "\n",
    "super_funcion(funcion)"
   ]
  },
  {
   "cell_type": "code",
   "execution_count": 3,
   "metadata": {},
   "outputs": [],
   "source": [
    "def funcion_a(funcion_b):\n",
    "    def funcion_c():\n",
    "        print('Antes de la ejecución de la función a decorar')\n",
    "        funcion_b()\n",
    "        print('Después de la ejecución de la función a decorar')\n",
    "\n",
    "    return funcion_c"
   ]
  },
  {
   "cell_type": "code",
   "execution_count": null,
   "metadata": {},
   "outputs": [],
   "source": [
    "class Millas:\n",
    "    __distancia = 0\n",
    "    __altura = 0\n",
    "\n",
    "    def __init__(self, distancia, altura):\n",
    "        self.__distancia = distancia\n",
    "        self.__altura = altura\n",
    "\n",
    "    def convertir_a_kilometros(self):\n",
    "        print (f'get distancia {self.__distancia*1.60}')\n",
    "        print (f'get altura {self.__distancia*1.60}')\n",
    "               \n",
    "    @property\n",
    "    def distancia(self):\n",
    "        print (f'get distancia {self.__distancia}')\n",
    "\n",
    "    @distancia.setter\n",
    "    def distancia(self,reccorido):\n",
    "        print(\"¿¿¿¿set reccorido\")\n",
    "        self.__distancia=reccorido\n",
    "\n",
    "        if reccorido < 0:\n",
    "            raise ValueError(\"Valor invalido, es menor a 0\")\n",
    "    \n",
    "    @property\n",
    "    def altura(self):\n",
    "        return self.altura\n",
    "    \n",
    "    @altura.setter\n",
    "    def altura(self, altura):\n",
    "        print(\"¿¿¿set recorrido\")\n",
    "        self.__altura = altura \n",
    "        \n",
    "        \n",
    "    @distancia.deleter\n",
    "    def distancia(self):\n",
    "        print(\"del distancia\")\n",
    "\n",
    "        del self.__distancia"
   ]
  },
  {
   "cell_type": "code",
   "execution_count": 5,
   "metadata": {},
   "outputs": [
    {
     "name": "stdout",
     "output_type": "stream",
     "text": [
      "encontrado 5\n"
     ]
    }
   ],
   "source": [
    "arr = {0,1,2,3,4,5,6,7,8,9,10}\n",
    "buscado = 5\n",
    "for item in arr: \n",
    "    if buscado == item: \n",
    "        print('encontrado', buscado)"
   ]
  },
  {
   "cell_type": "code",
   "execution_count": 4,
   "metadata": {},
   "outputs": [
    {
     "name": "stdout",
     "output_type": "stream",
     "text": [
      "5040\n"
     ]
    }
   ],
   "source": [
    "def factorial(n):\n",
    "    if n==1:\n",
    "        return 1\n",
    "    return factorial(n-1)*n\n",
    "\n",
    "resultado = factorial(7)\n",
    "print(resultado)"
   ]
  },
  {
   "cell_type": "code",
   "execution_count": 8,
   "metadata": {},
   "outputs": [
    {
     "name": "stdout",
     "output_type": "stream",
     "text": [
      "De que tamanio es la lista50\n",
      "que numero quieres encontrar?2\n",
      "[1, 2, 6, 6, 8, 11, 12, 14, 18, 18, 19, 22, 22, 24, 30, 31, 33, 37, 37, 37, 40, 45, 47, 47, 48, 55, 58, 60, 61, 61, 62, 63, 64, 65, 68, 69, 72, 74, 75, 77, 80, 80, 82, 85, 86, 86, 88, 89, 90, 95]\n",
      "buscando 2 entre 1 y 95, numero de paso 1\n",
      "buscando 2 entre 1 y 47, numero de paso 2\n",
      "buscando 2 entre 1 y 19, numero de paso 3\n",
      "buscando 2 entre 1 y 6, numero de paso 4\n",
      "buscando 2 entre 1 y 1, numero de paso 5\n",
      "buscando 2 entre 2 y 1, numero de paso 6\n"
     ]
    }
   ],
   "source": [
    "import random\n",
    "\n",
    "def busqueda_binaria(lista, comienzo, final, objetivo,counter):\n",
    "    print(f'buscando {objetivo} entre {lista[comienzo]} y {lista[final - 1]}, numero de paso {counter}')\n",
    "    if comienzo > final:\n",
    "        return False\n",
    "\n",
    "    medio = (comienzo + final) // 2\n",
    "\n",
    "    if lista[medio] == objetivo:\n",
    "        return True\n",
    "    elif lista[medio] < objetivo:\n",
    "        return busqueda_binaria(lista, medio + 1, final, objetivo, counter+1)\n",
    "    else:\n",
    "        return busqueda_binaria(lista, comienzo, medio - 1, objetivo, counter+1)\n",
    "    \n",
    "if __name__ == '__main__':\n",
    "    tamanio_de_la_lista= int(input('De que tamanio es la lista'))\n",
    "    objetivo = int(input('que numero quieres encontrar?'))\n",
    "\n",
    "    lista=sorted([random.randint(0,100) for i in range (tamanio_de_la_lista)])\n",
    "    print(lista)\n",
    "    encontrado = busqueda_binaria(lista, 0,len(lista),objetivo,1)"
   ]
  }
 ],
 "metadata": {
  "kernelspec": {
   "display_name": "Python 3",
   "language": "python",
   "name": "python3"
  },
  "language_info": {
   "codemirror_mode": {
    "name": "ipython",
    "version": 3
   },
   "file_extension": ".py",
   "mimetype": "text/x-python",
   "name": "python",
   "nbconvert_exporter": "python",
   "pygments_lexer": "ipython3",
   "version": "3.8.5"
  }
 },
 "nbformat": 4,
 "nbformat_minor": 4
}
