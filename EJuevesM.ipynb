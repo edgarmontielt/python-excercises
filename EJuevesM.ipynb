{
 "cells": [
  {
   "cell_type": "code",
   "execution_count": 10,
   "metadata": {},
   "outputs": [
    {
     "name": "stdout",
     "output_type": "stream",
     "text": [
      "Ingresa tu nombre: Edgar\n",
      "Ingresa tu edad: 19\n",
      "¿Cual es tu dirección? Venustiano Carranza\n",
      "Si eres estudiante ingresa 1, si eres trabajador ingresa 2: 2\n",
      "Hola Empleado \n"
     ]
    }
   ],
   "source": [
    "datos = {}\n",
    "\n",
    "nombre = input('Ingresa tu nombre: ')\n",
    "edad = int(input('Ingresa tu edad: '))\n",
    "direccion = input('¿Cual es tu dirección? ')\n",
    "ocupacion = int(input('Si eres estudiante ingresa 1, si eres trabajador ingresa 2: '))\n",
    "\n",
    "datos['nombre'] = nombre\n",
    "datos['edad'] = edad\n",
    "datos['direccion'] = direccion\n",
    "datos['ocupación'] = ocupacion\n",
    "\n",
    "if datos['ocupación'] == 1:\n",
    "    print('Hola')\n",
    "elif datos['ocupación'] == 2:\n",
    "    print('Hola Empleado ')\n",
    "else:\n",
    "    print('Número inválido')"
   ]
  },
  {
   "cell_type": "code",
   "execution_count": 8,
   "metadata": {},
   "outputs": [
    {
     "name": "stdout",
     "output_type": "stream",
     "text": [
      "Ingresa el campo qeu desees: Nombre\n",
      "Nombre: Edgar\n",
      "{'Nombre': 'Edgar'}\n",
      "Si deseas ingresar otro campo escribe 1, de lo contrario escribe 2: 1\n",
      "Ingresa el campo qeu desees: Direccion\n",
      "Direccion: Carranza\n",
      "{'Nombre': 'Edgar', 'Direccion': 'Carranza'}\n",
      "Si deseas ingresar otro campo escribe 1, de lo contrario escribe 2: 1\n",
      "Ingresa el campo qeu desees: Telefono\n",
      "Telefono: 2221706429\n",
      "{'Nombre': 'Edgar', 'Direccion': 'Carranza', 'Telefono': '2221706429'}\n",
      "Si deseas ingresar otro campo escribe 1, de lo contrario escribe 2: 2\n"
     ]
    }
   ],
   "source": [
    "datos = {}\n",
    "verif  = 1\n",
    "\n",
    "while verif == 1:\n",
    "    clave = input('Ingresa el campo que desees: ')\n",
    "    valor = input(clave + ': ')\n",
    "    datos[clave] = valor\n",
    "    print(datos)\n",
    "    verif = int(input('Si deseas ingresar otro campo escribe 1, de lo contrario escribe 2: '))"
   ]
  },
  {
   "cell_type": "code",
   "execution_count": 9,
   "metadata": {},
   "outputs": [
    {
     "data": {
      "text/plain": [
       "{'Nombre': 'Edgar', 'Direccion': 'Carranza', 'Telefono': '2221706429'}"
      ]
     },
     "execution_count": 9,
     "metadata": {},
     "output_type": "execute_result"
    }
   ],
   "source": [
    "datos"
   ]
  },
  {
   "cell_type": "code",
   "execution_count": null,
   "metadata": {},
   "outputs": [],
   "source": []
  }
 ],
 "metadata": {
  "kernelspec": {
   "display_name": "Python 3",
   "language": "python",
   "name": "python3"
  },
  "language_info": {
   "codemirror_mode": {
    "name": "ipython",
    "version": 3
   },
   "file_extension": ".py",
   "mimetype": "text/x-python",
   "name": "python",
   "nbconvert_exporter": "python",
   "pygments_lexer": "ipython3",
   "version": "3.8.5"
  }
 },
 "nbformat": 4,
 "nbformat_minor": 4
}
