{
 "cells": [
  {
   "cell_type": "code",
   "execution_count": 6,
   "metadata": {},
   "outputs": [
    {
     "name": "stdout",
     "output_type": "stream",
     "text": [
      "Digame cuantas palabras tiene la lista5\n",
      "Digame la palabra 1:Hola\n",
      "Digame la palabra 2:Hola\n",
      "Digame la palabra 3:Mundo\n",
      "Digame la palabra 4:Python\n",
      "Digame la palabra 5:Java\n",
      "La lista creada es:  ['Hola', 'Hola', 'Mundo', 'Python', 'Java']\n",
      "Digame la palabra a buscar: Hola\n",
      "La palabra Hola aparece  2  veces en la lista\n"
     ]
    }
   ],
   "source": [
    "numero = int(input('Digame cuantas palabras tiene la lista'))\n",
    "\n",
    "if numero < 1:\n",
    "    print('¡Imposible!')\n",
    "else:\n",
    "    lista=[]\n",
    "    \n",
    "    for i in range(numero):\n",
    "        print('Digame la palabra', str(i+1) + \":\", end=\"\")\n",
    "        palabra = input()\n",
    "        lista += [palabra]\n",
    "    print('La lista creada es: ', lista)\n",
    "    \n",
    "    buscar = input('Digame la palabra a buscar: ')\n",
    "    contador  = 0\n",
    "    \n",
    "    for i in lista:\n",
    "        if i == buscar:\n",
    "            contador +=1\n",
    "    if contador == 0:\n",
    "        print('La palabra ' + buscar + ' no aparece en la lista')\n",
    "    elif contador == 1:\n",
    "        print('La palabra ' + buscar + ' aparece una vez en la lista')\n",
    "    else:\n",
    "        print('La palabra ' + buscar + ' aparece ', contador, ' veces en la lista')"
   ]
  },
  {
   "cell_type": "code",
   "execution_count": 5,
   "metadata": {},
   "outputs": [
    {
     "name": "stdout",
     "output_type": "stream",
     "text": [
      "33\n",
      "43\n"
     ]
    }
   ],
   "source": [
    "def subrutina():\n",
    "    global a\n",
    "    print(a)\n",
    "    a += 10\n",
    "    return\n",
    "\n",
    "a = 33\n",
    "subrutina()\n",
    "print(a)\n"
   ]
  },
  {
   "cell_type": "code",
   "execution_count": null,
   "metadata": {},
   "outputs": [],
   "source": []
  }
 ],
 "metadata": {
  "kernelspec": {
   "display_name": "Python 3",
   "language": "python",
   "name": "python3"
  },
  "language_info": {
   "codemirror_mode": {
    "name": "ipython",
    "version": 3
   },
   "file_extension": ".py",
   "mimetype": "text/x-python",
   "name": "python",
   "nbconvert_exporter": "python",
   "pygments_lexer": "ipython3",
   "version": "3.8.5"
  }
 },
 "nbformat": 4,
 "nbformat_minor": 4
}
