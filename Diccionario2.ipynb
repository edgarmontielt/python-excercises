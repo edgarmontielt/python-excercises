{
 "cells": [
  {
   "cell_type": "code",
   "execution_count": 1,
   "metadata": {},
   "outputs": [
    {
     "name": "stdout",
     "output_type": "stream",
     "text": [
      "¿Que fruta desea comprar? Mango\n",
      "¿Cuantos kilos? 200\n",
      "El total a pagar es: \n",
      "4000\n"
     ]
    }
   ],
   "source": [
    "frutas = {'Mango': 20 , 'Uva': 50, 'Naranja': 5, 'Manzana': 30, 'Pera': 25, }\n",
    "\n",
    "compra = input('¿Que fruta desea comprar? ')\n",
    "\n",
    "if compra in frutas: \n",
    "    kg = int(input('¿Cuantos kilos? '))\n",
    "    print('El total a pagar es: ')\n",
    "    print(frutas['Mango'] * kg)\n",
    "else:\n",
    "    print('No hay')\n",
    "\n"
   ]
  },
  {
   "cell_type": "code",
   "execution_count": 12,
   "metadata": {},
   "outputs": [
    {
     "data": {
      "text/plain": [
       "40"
      ]
     },
     "execution_count": 12,
     "metadata": {},
     "output_type": "execute_result"
    }
   ],
   "source": [
    "frutas['Mango'] * 2"
   ]
  },
  {
   "cell_type": "code",
   "execution_count": null,
   "metadata": {},
   "outputs": [],
   "source": []
  }
 ],
 "metadata": {
  "kernelspec": {
   "display_name": "Python 3",
   "language": "python",
   "name": "python3"
  },
  "language_info": {
   "codemirror_mode": {
    "name": "ipython",
    "version": 3
   },
   "file_extension": ".py",
   "mimetype": "text/x-python",
   "name": "python",
   "nbconvert_exporter": "python",
   "pygments_lexer": "ipython3",
   "version": "3.8.5"
  }
 },
 "nbformat": 4,
 "nbformat_minor": 4
}
